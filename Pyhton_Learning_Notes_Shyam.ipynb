{
  "nbformat": 4,
  "nbformat_minor": 0,
  "metadata": {
    "colab": {
      "provenance": [],
      "authorship_tag": "ABX9TyMXA5DoMyLFVC9fAL9cODzC",
      "include_colab_link": true
    },
    "kernelspec": {
      "name": "python3",
      "display_name": "Python 3"
    },
    "language_info": {
      "name": "python"
    }
  },
  "cells": [
    {
      "cell_type": "markdown",
      "metadata": {
        "id": "view-in-github",
        "colab_type": "text"
      },
      "source": [
        "<a href=\"https://colab.research.google.com/github/ShyamNaidu243/Study_Materials/blob/main/Pyhton_Learning_Notes_Shyam.ipynb\" target=\"_parent\"><img src=\"https://colab.research.google.com/assets/colab-badge.svg\" alt=\"Open In Colab\"/></a>"
      ]
    },
    {
      "cell_type": "markdown",
      "source": [
        "**What is Python?**"
      ],
      "metadata": {
        "id": "2S4spi7wivtl"
      }
    },
    {
      "cell_type": "markdown",
      "source": [
        "A. High Level Programming Language\n",
        "\n",
        "B. General Purpose Programming Language\n",
        "\n",
        "C. OOP's\n",
        "\n",
        "D. Dynamically Typed\n",
        "\n",
        "E. Interpreted Programming Language\n"
      ],
      "metadata": {
        "id": "0fCU05qdi0rI"
      }
    },
    {
      "cell_type": "markdown",
      "source": [
        "**Numerical Data Types in Python**\n",
        "\n",
        "There are 3 types of numerical types they are:\n",
        "\n",
        "1. **int:**\n",
        "      A whole number without any decimal point which is either positive or negative .\n",
        "\n",
        "For example: 1,2,3,-4,-6453 etc."
      ],
      "metadata": {
        "id": "2xRZ1-wRjjHg"
      }
    },
    {
      "cell_type": "markdown",
      "source": [
        "2. **float:** A number with decimal points which is either postivie or negative.\n",
        "\n",
        "For example : 2.1, -2.1 etc\n"
      ],
      "metadata": {
        "id": "xVQuZma0kq2t"
      }
    },
    {
      "cell_type": "markdown",
      "source": [
        "  3.   **Complex:** A real number with its imaginary part.\n",
        "\n",
        "For example 3+2j , -5+13j etc.\n",
        "\n",
        "where  3 is real part and 2j is imaginary part"
      ],
      "metadata": {
        "id": "lOAuyKs9lin5"
      }
    },
    {
      "cell_type": "markdown",
      "source": [
        "### **Types of Errors**\n",
        "\n",
        "\n",
        "*   Syntax Errors\n",
        "*   Logical Errors\n",
        "\n",
        "**Syntax Error:**\n",
        "if you break rules of a Programming Language the you will rise Syntax Error\n",
        "\n",
        "For Example:\n",
        "\n",
        "    int x =\n",
        "    print(x)\n",
        "This rises Syntax Errors\n",
        "\n",
        "**Logical Error:**\n",
        "None other than syntax error all the other errors will be Logical Errors\n",
        "\n",
        "For example: ArrayIndexOutOfBound, EndOfFIle, EndOfLine etc."
      ],
      "metadata": {
        "id": "xceLo3WBnYSd"
      }
    },
    {
      "cell_type": "markdown",
      "source": [
        "# **Arithematic Operators**\n",
        "\n",
        "\n",
        "1.   Addition\n",
        "```\n",
        "print(5 + 10)\n",
        "print(type(5+10))\n",
        "```\n",
        "2.   Multiplication\n",
        "```\n",
        "print(5 * 10)\n",
        "print(type(5+10))\n",
        "```\n",
        "3.   Division\n",
        "```\n",
        "print(5 / 10)\n",
        "print(type(5+10))\n",
        "```\n",
        "4.   Subtraction\n",
        "```\n",
        "print(5 - 10)\n",
        "print(type(5+10))\n",
        "```\n",
        "5.   Exponential\n",
        "```\n",
        "print(5 ** 10)\n",
        "print(type(5+10))\n",
        "```\n",
        "6.   Floor Division\n",
        "```\n",
        "print(5 // 10)\n",
        "print(type(5+10))\n",
        "```\n",
        "7.   Modulus\n",
        "```\n",
        "print(5 % 10)\n",
        "print(type(5+10))\n",
        "```\n",
        "\n",
        "\n",
        "\n"
      ],
      "metadata": {
        "id": "Zt-CBLG1pvQf"
      }
    },
    {
      "cell_type": "code",
      "source": [
        "g"
      ],
      "metadata": {
        "id": "3l1CWY5NBKHr"
      },
      "execution_count": null,
      "outputs": []
    },
    {
      "cell_type": "markdown",
      "source": [
        "#String Formatting\n",
        "\n",
        "format(): It takes an argument in string and that can be placed in a place holder in a string\n",
        "\n",
        "For Example:\n",
        "##Method 1:\n",
        "\n",
        "```\n",
        "age=10\n",
        "txt=\"I am {} Years Old\"\n",
        "print(txt.format(age))\n",
        "```\n",
        "##Output\n",
        "\n",
        "```\n",
        "I am 10 Years Old\n",
        "```\n",
        "##Method 2:\n",
        "\n",
        "\n",
        "```\n",
        "age=10\n",
        "txt= \"I am {} Years Old\".format(age)\n",
        "print(txt)\n",
        "```\n",
        "##Output\n",
        "\n",
        "\n",
        "\n",
        "```\n",
        "I am 10 Years Old\n",
        "```\n",
        "\n",
        "\n",
        "##Method 3:\n",
        "\n",
        "\n",
        "```\n",
        "age=10\n",
        "txt=f\"I am {age} Years Old\"\n",
        "print(txt}\n",
        "```\n",
        "#Output\n",
        "\n",
        "\n",
        "```\n",
        "I am 10 Years Old\n",
        "```\n",
        "\n",
        "\n"
      ],
      "metadata": {
        "id": "Iw2x7Yr4_nWp"
      }
    },
    {
      "cell_type": "code",
      "source": [
        "item =\"Product A\"\n",
        "price=9.99\n",
        "quantity=20\n",
        "print(\"Your order for {} number of items {} priced at {} is confirmed\".format(item,price,quantity))"
      ],
      "metadata": {
        "colab": {
          "base_uri": "https://localhost:8080/"
        },
        "id": "KMMvxRPNCQN5",
        "outputId": "2e88fa3e-a5a4-42ee-b7cd-9002232c6e76"
      },
      "execution_count": null,
      "outputs": [
        {
          "output_type": "stream",
          "name": "stdout",
          "text": [
            "Your order for Product A number of items 9.99 priced at 20 is confirmed\n"
          ]
        }
      ]
    },
    {
      "cell_type": "code",
      "source": [
        "item =\"Product A\"\n",
        "price=9.99\n",
        "quantity=20\n",
        "print(f\"Your order for {item} number of items {quantity} priced at {price} per unit is confirmed, please pay {quantity*price} on or before the time of delivery\")"
      ],
      "metadata": {
        "colab": {
          "base_uri": "https://localhost:8080/"
        },
        "id": "BLjeLmGNDAQW",
        "outputId": "27f24540-4cbd-46d6-9576-bb09aa969d38"
      },
      "execution_count": null,
      "outputs": [
        {
          "output_type": "stream",
          "name": "stdout",
          "text": [
            "Your order for Product A number of items 20 priced at 9.99 per unit is confirmed, please pay 199.8 on or before the time of delivery\n"
          ]
        }
      ]
    },
    {
      "cell_type": "markdown",
      "source": [
        "##Printing Illegal Characters in a String\n",
        "\n",
        "\n",
        "```\n",
        "a=\"Dayanad \"The Monster\" is alive\"\n",
        "```\n",
        "The above code gives error to handle this we can write\n",
        "\n",
        "\n",
        "\n",
        "```\n",
        "a=\"Dayanand \\\"The Monster\" is alive\"\n",
        "\n",
        "```\n",
        "###Or\n",
        "\n",
        "\n",
        "```\n",
        "a='Dayanand \"The Monster\" is alive'\n",
        "```"
      ],
      "metadata": {
        "id": "wIwLsfpIFMIT"
      }
    },
    {
      "cell_type": "markdown",
      "source": [
        "##Comparison Operators\n",
        "\n",
        "\n",
        "\n",
        "```\n",
        "# This is formatted as code\n",
        ">\n",
        ">=\n",
        "<\n",
        "<=\n",
        "==\n",
        "!=\n",
        "\n",
        "```\n",
        "\n",
        "\n"
      ],
      "metadata": {
        "id": "mcMB1T1wIyLc"
      }
    },
    {
      "cell_type": "code",
      "source": [
        "a=int(input())\n",
        "b=int(input())\n",
        "c=int(input())\n",
        "if (a>b and a>c):\n",
        "  print(\"{} is greater\".format(a))\n",
        "\n",
        "elif (b>c and b>a):\n",
        "  print(\"{} is greater\".format(b))\n",
        "else:\n",
        "  print(\"{} is greater\".format(c))\n"
      ],
      "metadata": {
        "colab": {
          "base_uri": "https://localhost:8080/"
        },
        "id": "x-HTCtJcJUis",
        "outputId": "3caca288-2292-4a6f-bb7c-280cec957931"
      },
      "execution_count": null,
      "outputs": [
        {
          "output_type": "stream",
          "name": "stdout",
          "text": [
            "2\n",
            "5\n",
            "4\n",
            "5 is greater\n"
          ]
        }
      ]
    },
    {
      "cell_type": "code",
      "source": [
        "\n"
      ],
      "metadata": {
        "id": "KSDCyfOQMMwF"
      },
      "execution_count": null,
      "outputs": []
    },
    {
      "cell_type": "markdown",
      "source": [
        "###Pass is a null place holder when you execute nothing will happen"
      ],
      "metadata": {
        "id": "PVjltw-5Ojxr"
      }
    },
    {
      "cell_type": "markdown",
      "source": [
        "#Loops\n",
        "\n",
        "##Why do we use loops?\n",
        "We are using loops to avoid wet codes i.e, to avoid duplicate codes\n",
        "###WET stands for write everything twice\n",
        "###DRY stands for do everything twice"
      ],
      "metadata": {
        "id": "G4LP9OXwd9Rt"
      }
    },
    {
      "cell_type": "markdown",
      "source": [
        "##Two types of loops\n",
        "###1. for loop\n",
        "###2. while loop"
      ],
      "metadata": {
        "id": "efjeK1fafqY9"
      }
    },
    {
      "cell_type": "markdown",
      "source": [
        "#Collections\n",
        "*   List\n",
        "*   Set\n",
        "*   Tuple\n",
        "*   Dictionary\n",
        "\n"
      ],
      "metadata": {
        "id": "UVaPOGp3gLrU"
      }
    },
    {
      "cell_type": "markdown",
      "source": [
        "###**List:**\n",
        "List is one of the 4 python collection, which is created by using squared braces '[]'. List is a collection of heterogeneous data where insertion order is present i,e. we can access the elements of the list by using indices. List also allows duplicates and are mutalbe .\n",
        "\n",
        "##For Example"
      ],
      "metadata": {
        "id": "RZsGq0kJhDUq"
      }
    },
    {
      "cell_type": "code",
      "source": [
        "list1=[1,2,3,4,\"efa\"]\n",
        "list1.append(2)\n",
        "list1.insert(3,43)\n",
        "print(list1[::])\n",
        "list1.extend(l1)\n"
      ],
      "metadata": {
        "colab": {
          "base_uri": "https://localhost:8080/"
        },
        "id": "Irm5NuA9fci6",
        "outputId": "0eae52dc-dc9e-4200-e1c4-53363a429824"
      },
      "execution_count": null,
      "outputs": [
        {
          "output_type": "stream",
          "name": "stdout",
          "text": [
            "[1, 2, 3, 43, 4, 'efa', 2]\n"
          ]
        }
      ]
    },
    {
      "cell_type": "markdown",
      "source": [
        "####By Ordered List we mean that elements of list can be swapped,added and removed\n",
        "\n",
        "Swapping :\n"
      ],
      "metadata": {
        "id": "At9FIfc_k_LX"
      }
    },
    {
      "cell_type": "code",
      "source": [
        "l1=[12,34,5,534]\n",
        "#Method 1\n",
        "l1[0],l1[2]=l1[2],l1[0]\n",
        "print(l1[::])\n",
        "#Method 2\n",
        "l1[0:3] = 34,12,5\n",
        "print(l1[::])"
      ],
      "metadata": {
        "colab": {
          "base_uri": "https://localhost:8080/"
        },
        "id": "4dmXUQXVj1pp",
        "outputId": "4411b259-e4b9-4c42-fd15-68b0633e7578"
      },
      "execution_count": null,
      "outputs": [
        {
          "output_type": "stream",
          "name": "stdout",
          "text": [
            "[5, 34, 12, 534]\n",
            "[34, 12, 5, 534]\n"
          ]
        }
      ]
    },
    {
      "cell_type": "markdown",
      "source": [
        "#Adding Elements in the list\n",
        "\n",
        "There are three methods\n",
        "\n",
        "\n",
        "*   append()\n",
        "*   insert()\n",
        "*   extend()\n",
        "\n",
        "\n",
        "\n"
      ],
      "metadata": {
        "id": "2NtekIcGnL3g"
      }
    },
    {
      "cell_type": "code",
      "source": [
        "l2=[1,2,3,4,5,6,7]\n",
        "l2.append(23)\n",
        "print(l2[::])\n",
        "l2.insert(4,\"this is inserted Element\")\n",
        "print(l2[::])\n",
        "l3=[\"s\",'wefew','fwef']\n",
        "l2.extend(l3)\n",
        "print(l2[::])"
      ],
      "metadata": {
        "colab": {
          "base_uri": "https://localhost:8080/"
        },
        "id": "Mo51ie2imKtz",
        "outputId": "aa01c1d7-50e3-447b-ec60-82ba5757bcfd"
      },
      "execution_count": null,
      "outputs": [
        {
          "output_type": "stream",
          "name": "stdout",
          "text": [
            "[1, 2, 3, 4, 5, 6, 7, 23]\n",
            "[1, 2, 3, 4, 'this is inserted Element', 5, 6, 7, 23]\n",
            "[1, 2, 3, 4, 'this is inserted Element', 5, 6, 7, 23, 's', 'wefew', 'fwef']\n"
          ]
        }
      ]
    },
    {
      "cell_type": "markdown",
      "source": [
        "#Removing Elements in a list\n",
        "\n",
        "To remove elements for a list we have four methods\n",
        "\n",
        "\n",
        "*   remove(\"element you want to remove\")\n",
        "*   pop()\n",
        "*   del list_name[index_number]\n",
        "*   clear()\n",
        "\n"
      ],
      "metadata": {
        "id": "o2NfUd4eonMj"
      }
    },
    {
      "cell_type": "code",
      "source": [
        "l2.remove(\"this is inserted Element\")#--> to remove particular element\n",
        "print(l2[::])\n",
        "l2.pop(4)# --> to remove element in a particular index\n",
        "print(l2[::])\n",
        "l2.pop() #--> to remove the last element of list\n",
        "print(l2[::])\n",
        "del l2[2]  # --> used to remove element in a particular element using index but not recommended\n",
        "print(l2[::])\n",
        "del l2[::] #--> to remove lements in a given range\n",
        "print(l2[::])\n",
        "l2.clear()# --> This clears the entire list"
      ],
      "metadata": {
        "colab": {
          "base_uri": "https://localhost:8080/"
        },
        "id": "VIP2aazCn59o",
        "outputId": "6fa39cc3-7fbf-46e3-feb1-a541f60307bb"
      },
      "execution_count": null,
      "outputs": [
        {
          "output_type": "stream",
          "name": "stdout",
          "text": [
            "[1, 2, 3, 4, 5, 6, 7, 23, 's', 'wefew', 'fwef']\n",
            "[1, 2, 3, 4, 6, 7, 23, 's', 'wefew', 'fwef']\n",
            "[1, 2, 3, 4, 6, 7, 23, 's', 'wefew']\n",
            "[1, 2, 4, 6, 7, 23, 's', 'wefew']\n",
            "[]\n"
          ]
        }
      ]
    },
    {
      "cell_type": "markdown",
      "source": [
        "#Tuple\n",
        "Tupte is one of the 4 python collection, which is created by using curved braces '()'. Tuple is a collection of heterogeneous data where insertion order is present i,e. we can access the elements of the tuple by using indices. tuple also allows duplicates the only difference betweenlist and tuple are that list is mutable wherer tuple is immutable i,e. we cannot change the values in a tuple once they are created.\n",
        "\n",
        "##For Example\n"
      ],
      "metadata": {
        "id": "muSe5i5msT3G"
      }
    },
    {
      "cell_type": "code",
      "source": [
        "#Tuple\n",
        "a=(1,\"223\")\n",
        "print(a)\n",
        "print(type(a))\n",
        "a=list(a)\n",
        "print(a)\n",
        "print(type(a))"
      ],
      "metadata": {
        "colab": {
          "base_uri": "https://localhost:8080/"
        },
        "id": "ZkoGurfeo343",
        "outputId": "5d6c368c-9be5-403d-def0-49992a6d6cd4"
      },
      "execution_count": null,
      "outputs": [
        {
          "output_type": "stream",
          "name": "stdout",
          "text": [
            "(1, '223')\n",
            "<class 'tuple'>\n",
            "[1, '223']\n",
            "<class 'list'>\n"
          ]
        }
      ]
    },
    {
      "cell_type": "markdown",
      "source": [
        "When Should I use a list and when should I use a tuple?\n",
        "\n",
        "\n",
        "*  Tuple is used in cases where data sould be protected and retained. i,e tuples are used when we dont want our data to be changed or manipulated .\n",
        "\n",
        "*   List is used in a cases where data is changed or manipulated regularly.\n",
        "\n",
        "\n",
        "\n",
        "\n"
      ],
      "metadata": {
        "id": "gGka8FDdtmXE"
      }
    },
    {
      "cell_type": "markdown",
      "source": [
        "#Set\n",
        "\n",
        "Set is one of the 4 python collection, which is created by using curly braces\n",
        " '{}'. Tuple is a collection of heterogeneous data where insertion order is not present i,e. we cannot access the elements of the set by using indices. set donot allows duplicates. set is immutable i,e. we cannot change the values in a set once they are created, but we can add or remove items .\n",
        "\n",
        "## For Example"
      ],
      "metadata": {
        "id": "qa1ow2wkupNE"
      }
    },
    {
      "cell_type": "code",
      "source": [
        "a={'dca','csdecs','sdvv'}\n",
        "print(a)\n",
        "print(type(a))"
      ],
      "metadata": {
        "colab": {
          "base_uri": "https://localhost:8080/"
        },
        "id": "-siy9v2usn7c",
        "outputId": "5fb3d8e5-1185-49a5-fb12-b0e543dc9874"
      },
      "execution_count": null,
      "outputs": [
        {
          "output_type": "stream",
          "name": "stdout",
          "text": [
            "{'dca', 'sdvv', 'csdecs'}\n",
            "<class 'set'>\n"
          ]
        }
      ]
    },
    {
      "cell_type": "markdown",
      "source": [
        "Why Sets are very Faster than lists and tuples?\n",
        "\n",
        "As we don't have any insertion order and cannot modify the set it takes very less memory which makes the sets faster than lists and tuples"
      ],
      "metadata": {
        "id": "daDbOM7vv3RA"
      }
    },
    {
      "cell_type": "markdown",
      "source": [
        "#Adding elements in Set\n",
        "\n",
        "\n",
        "*   add()\n",
        "*   update()\n",
        "\n"
      ],
      "metadata": {
        "id": "agmMO8HDwrMt"
      }
    },
    {
      "cell_type": "code",
      "source": [
        "s1={1,2,3,4,5}\n",
        "s1.add(6) #--> to add a certain element\n",
        "print(s1)\n",
        "a=[40,43,44]\n",
        "s1.update(a)#--> to add a set or other collection\n",
        "print(s1)"
      ],
      "metadata": {
        "colab": {
          "base_uri": "https://localhost:8080/"
        },
        "id": "OGpsbN2gv1L4",
        "outputId": "27575271-79c2-4249-a910-b2c0d2a7eccd"
      },
      "execution_count": null,
      "outputs": [
        {
          "output_type": "stream",
          "name": "stdout",
          "text": [
            "{1, 2, 3, 4, 5, 6}\n",
            "{1, 2, 3, 4, 5, 6, 40, 43, 44}\n"
          ]
        }
      ]
    },
    {
      "cell_type": "markdown",
      "source": [
        "#Removing Elements in Set\n",
        "\n",
        "\n",
        "*   List item\n",
        "*   List item\n"
      ],
      "metadata": {
        "id": "J5b-xvwXxUjr"
      }
    },
    {
      "cell_type": "code",
      "source": [
        "# s1.remove(2)#-->  to remove element\n",
        "print(s1)\n",
        "s1.discard(4)#--> same function but not recommended\n",
        "print(s1)\n",
        "s1.pop()#--> removes a random element\n",
        "s1.clear()#--> removes elements form the set\n",
        "print(s1)\n",
        "del s1 #--> deletes the set"
      ],
      "metadata": {
        "colab": {
          "base_uri": "https://localhost:8080/"
        },
        "id": "D16hhLo6w6Dq",
        "outputId": "ccde9a77-561d-4ec7-9c56-2624e4ca426e"
      },
      "execution_count": null,
      "outputs": [
        {
          "output_type": "stream",
          "name": "stdout",
          "text": [
            "{1, 2, 3, 4, 5, 6, 40, 43, 44}\n",
            "{1, 2, 3, 5, 6, 40, 43, 44}\n",
            "set()\n"
          ]
        }
      ]
    },
    {
      "cell_type": "markdown",
      "source": [
        "What is difference between remove() and discard()\n",
        "\n",
        "\n",
        "What  is the main reason we use sets?"
      ],
      "metadata": {
        "id": "boxgQE7CyzpC"
      }
    },
    {
      "cell_type": "code",
      "source": [
        "s1={'a','b','c','d'}\n",
        "s2={'c','d','e','f'}\n",
        "print(s1.intersection(s2))\n",
        "print(s2.intersection(s1))"
      ],
      "metadata": {
        "colab": {
          "base_uri": "https://localhost:8080/"
        },
        "id": "xcL5WC6Gxfi1",
        "outputId": "6d29f9b9-6ff4-4f5a-d2c0-39994a536bdd"
      },
      "execution_count": null,
      "outputs": [
        {
          "output_type": "stream",
          "name": "stdout",
          "text": [
            "{'c', 'd'}\n",
            "{'c', 'd'}\n"
          ]
        }
      ]
    },
    {
      "cell_type": "markdown",
      "source": [
        "#Dictionary\n",
        "\n",
        "Dictionary is one of the 4 collections in python where we store elements as key value pairs. Dictionary is a collection which is orderd by keys and unordered by its values. we can store the duplicate values for keys, but it is not possible to have duplicate keys in a dictionary.\n",
        "\n",
        "\n",
        "\n",
        "\n",
        "##For Example:"
      ],
      "metadata": {
        "id": "wH64d0FDtrfb"
      }
    },
    {
      "cell_type": "code",
      "source": [
        "d1={\"name\":\"Python Programming\",\"total_students\":29,\"Address\":\"Hyderabad\"}\n",
        "\n",
        "#displaying Dictionary elements\n",
        "print(d1.keys()) #----> to access keys\n",
        "print(d1.values()) #---> to access values\n",
        "print(d1.items()) #--> to access both keys and values\n"
      ],
      "metadata": {
        "colab": {
          "base_uri": "https://localhost:8080/"
        },
        "id": "WRxR03Uxtq3A",
        "outputId": "ec7d045c-440c-498f-8094-6122df74f007"
      },
      "execution_count": null,
      "outputs": [
        {
          "output_type": "stream",
          "name": "stdout",
          "text": [
            "dict_keys(['name', 'total_students', 'Address'])\n",
            "dict_values(['Python Programming', 29, 'Hyderabad'])\n",
            "dict_items([('name', 'Python Programming'), ('total_students', 29), ('Address', 'Hyderabad')])\n",
            "3\n",
            "Python Programming\n"
          ]
        }
      ]
    },
    {
      "cell_type": "code",
      "source": [
        "#length of dictionary\n",
        "\n",
        "print(len(d1))"
      ],
      "metadata": {
        "colab": {
          "base_uri": "https://localhost:8080/"
        },
        "id": "0jvkZauWzt76",
        "outputId": "f25c1df4-e0d8-4e01-f3e4-62fdfffc1e3a"
      },
      "execution_count": null,
      "outputs": [
        {
          "output_type": "stream",
          "name": "stdout",
          "text": [
            "3\n"
          ]
        }
      ]
    },
    {
      "cell_type": "code",
      "source": [
        "#Accessing dictionary elements\n",
        "\n",
        "print(d1.get(\"name\"))\n",
        "print(d1['name'])"
      ],
      "metadata": {
        "colab": {
          "base_uri": "https://localhost:8080/"
        },
        "id": "2HoG6fJ9wiPU",
        "outputId": "b292b703-4c17-4260-a26e-7b728a1a2215"
      },
      "execution_count": null,
      "outputs": [
        {
          "output_type": "stream",
          "name": "stdout",
          "text": [
            "Python Programming\n",
            "Python Programming\n"
          ]
        }
      ]
    },
    {
      "cell_type": "code",
      "source": [
        "#changing the values of dictionary\n",
        "d1['name']='JAVA'\n",
        "print(d1.get('name'))\n",
        "d1.update({'name':'c++'})\n",
        "print(d1.get('name'))"
      ],
      "metadata": {
        "colab": {
          "base_uri": "https://localhost:8080/"
        },
        "id": "Ssrm3tuxwvAL",
        "outputId": "55dfcf87-7d22-4d15-e713-f8e7b4db418a"
      },
      "execution_count": null,
      "outputs": [
        {
          "output_type": "stream",
          "name": "stdout",
          "text": [
            "JAVA\n",
            "c++\n"
          ]
        }
      ]
    },
    {
      "cell_type": "code",
      "source": [
        "#adding new key,value pair\n",
        "\n",
        "d1['time']='02:00:00'\n",
        "print(d1)\n",
        "d1.update({'new':\"COBOL\"})\n",
        "print(d1)"
      ],
      "metadata": {
        "colab": {
          "base_uri": "https://localhost:8080/"
        },
        "id": "OCDa1AY4w49N",
        "outputId": "2cfccf55-b3a5-42d3-8f56-23286d3a9fa0"
      },
      "execution_count": null,
      "outputs": [
        {
          "output_type": "stream",
          "name": "stdout",
          "text": [
            "{'name': 'c++', 'total_students': 29, 'Address': 'Hyderabad', 'time': '02:00:00'}\n",
            "{'name': 'c++', 'total_students': 29, 'Address': 'Hyderabad', 'time': '02:00:00', 'new': 'COBOL'}\n"
          ]
        }
      ]
    },
    {
      "cell_type": "markdown",
      "source": [
        "If the input keys are present in the dictionary the values get updates oterwise new keys will be added"
      ],
      "metadata": {
        "id": "UZVE-DKNzA5r"
      }
    },
    {
      "cell_type": "code",
      "source": [
        "#Removing values\n",
        "d1.pop('new')\n",
        "print(d1)\n",
        "\n",
        "del d1['time']\n",
        "print(d1)\n",
        "\n",
        "print(d1.clear())"
      ],
      "metadata": {
        "colab": {
          "base_uri": "https://localhost:8080/"
        },
        "id": "IEmBKeLqx_kM",
        "outputId": "046c384f-b36f-4910-f825-c5e6f7106f98"
      },
      "execution_count": null,
      "outputs": [
        {
          "output_type": "stream",
          "name": "stdout",
          "text": [
            "{'name': 'c++', 'total_students': 29, 'Address': 'Hyderabad', 'time': '02:00:00'}\n",
            "{'name': 'c++', 'total_students': 29, 'Address': 'Hyderabad'}\n",
            "None\n"
          ]
        }
      ]
    },
    {
      "cell_type": "code",
      "source": [
        "d2={'name':['python','java']}\n",
        "d2.update({'DOB':1991})\n",
        "print(d2['name'][1])\n",
        "d2['name'][1]='c++'\n",
        "print(d2)"
      ],
      "metadata": {
        "colab": {
          "base_uri": "https://localhost:8080/"
        },
        "id": "aD78BAdYyoFV",
        "outputId": "297785b7-e7aa-453c-ca66-72d888bd50bf"
      },
      "execution_count": null,
      "outputs": [
        {
          "output_type": "stream",
          "name": "stdout",
          "text": [
            "java\n",
            "{'name': ['python', 'c++'], 'DOB': 1991}\n"
          ]
        }
      ]
    },
    {
      "cell_type": "code",
      "source": [
        "d2['name'].append('c#')\n",
        "print(d2)"
      ],
      "metadata": {
        "colab": {
          "base_uri": "https://localhost:8080/"
        },
        "id": "W4CvHRtqzmmb",
        "outputId": "8e681488-728b-44c1-c670-1ab5061fbc98"
      },
      "execution_count": null,
      "outputs": [
        {
          "output_type": "stream",
          "name": "stdout",
          "text": [
            "{'name': ['python', 'c++', 'c#'], 'DOB': 1991}\n"
          ]
        }
      ]
    },
    {
      "cell_type": "code",
      "source": [
        "#Working with loops in dictionary\n",
        "print(\"Printing only keys\")\n",
        "for i in d2.keys():\n",
        "  print(i)\n",
        "print()\n",
        "print(\"Printing only values\")\n",
        "for i in d2.values():\n",
        "  print(i)\n",
        "print()\n",
        "print(\"printing both keys and values\")\n",
        "for i,j in d2.items():\n",
        "  print(i,\":\",j)\n",
        "print()\n",
        "print(\"Printing both keys and values by \")\n",
        "for i in d2.keys():\n",
        "  print('{} : {}'.format(i,d2[i]))"
      ],
      "metadata": {
        "colab": {
          "base_uri": "https://localhost:8080/"
        },
        "id": "F9NumwWw1Xh6",
        "outputId": "73ce605f-b0b9-419c-c47d-ae9658f630aa"
      },
      "execution_count": null,
      "outputs": [
        {
          "output_type": "stream",
          "name": "stdout",
          "text": [
            "Printing only keys\n",
            "name\n",
            "DOB\n",
            "\n",
            "Printing only values\n",
            "['python', 'c++', 'c#']\n",
            "1991\n",
            "\n",
            "printing both keys and values\n",
            "name : ['python', 'c++', 'c#']\n",
            "DOB : 1991\n",
            "\n",
            "Printing both keys and values\n",
            "name : ['python', 'c++', 'c#']\n",
            "DOB : 1991\n"
          ]
        }
      ]
    },
    {
      "cell_type": "markdown",
      "source": [
        "#Functions\n",
        "\n",
        "##What is function?\n",
        "Function is a block of code which can be used whenever or where ever required. which reduces the repetion of code which saves time and memory\n",
        "\n",
        "#Creating And dealing with functions"
      ],
      "metadata": {
        "id": "5iwD0cwy5UNK"
      }
    },
    {
      "cell_type": "code",
      "source": [
        "#Function without Parameter\n",
        "def fun1():\n",
        "  print(\"This is the first function\")\n",
        "  print('=================')\n",
        "fun1()\n",
        "print()\n",
        "print()\n",
        "\n",
        "#Function with Parameter\n",
        "def fun2(name,age):\n",
        "  print(f'his name is {name} and age is {age}')\n",
        "\n",
        "fun2('Shyam',21)\n",
        "print()\n",
        "print()"
      ],
      "metadata": {
        "colab": {
          "base_uri": "https://localhost:8080/"
        },
        "id": "QgopICst3cmD",
        "outputId": "2b4d397f-d2f9-49f7-b4fe-146342f1bfba"
      },
      "execution_count": null,
      "outputs": [
        {
          "output_type": "stream",
          "name": "stdout",
          "text": [
            "This is the first function\n",
            "=================\n",
            "\n",
            "\n",
            "his name is Shyam and age is 21\n",
            "\n",
            "\n"
          ]
        }
      ]
    },
    {
      "cell_type": "markdown",
      "source": [
        "###Paramenter :\n",
        " the variables that are defined when we create a function are called parameters\n",
        "\n",
        "###Argument:\n",
        "\n",
        "the value that is assigned to variables when we call a function are called arguments.\n",
        "\n",
        "\n",
        "**Parameters and functions are used for passing some information when we declare the function.**"
      ],
      "metadata": {
        "id": "22xAV14j9anz"
      }
    },
    {
      "cell_type": "markdown",
      "source": [
        "#Types of Parameters\n",
        "\n",
        "\n",
        "*   Default Parameters\n",
        "*   Keyword Parameters\n",
        "*   Positional Parameters\n",
        "\n"
      ],
      "metadata": {
        "id": "_5ZVbQSw_pjt"
      }
    },
    {
      "cell_type": "code",
      "source": [
        "def f3(name=\"user\"):#--> default Parameter\n",
        "  print(\"My name is {}\".format(name))\n",
        "f3()\n",
        "f3('Shyam')\n",
        "print(2*'\\n')"
      ],
      "metadata": {
        "colab": {
          "base_uri": "https://localhost:8080/"
        },
        "id": "iOTHHqE53sdZ",
        "outputId": "c36bae8a-d1f7-43ac-a73e-51ef657c67df"
      },
      "execution_count": null,
      "outputs": [
        {
          "output_type": "stream",
          "name": "stdout",
          "text": [
            "My name is user\n",
            "My name is Shyam\n",
            "\n",
            "\n",
            "\n"
          ]
        }
      ]
    },
    {
      "cell_type": "code",
      "source": [
        "#when we dont know how many arguments to pass\n",
        "#--> arbitary arguments (*args)\n",
        "def fun4(*name):\n",
        "  print(f'Hello {name}')\n",
        "fun4('pyhton','java','c')"
      ],
      "metadata": {
        "colab": {
          "base_uri": "https://localhost:8080/"
        },
        "id": "3DjnHwrWAGab",
        "outputId": "e19ed6ec-add7-4c2e-ff45-2dcb8ae893b3"
      },
      "execution_count": null,
      "outputs": [
        {
          "output_type": "stream",
          "name": "stdout",
          "text": [
            "Hello ('pyhton', 'java', 'c')\n"
          ]
        }
      ]
    },
    {
      "cell_type": "code",
      "source": [
        "#when we dont know how many parameters while declaring function\n",
        "#--> arbitary keywords (**kwargs)\n",
        "#default data type is dictionary\n",
        "\n",
        "def fun5(**name):\n",
        "  print(name)\n",
        "fun5(Name=\"python\",Location=\"address\")"
      ],
      "metadata": {
        "colab": {
          "base_uri": "https://localhost:8080/"
        },
        "id": "gnyC8u4ZBdtf",
        "outputId": "a07c5865-15c3-4087-f33e-f722cbb0b78c"
      },
      "execution_count": null,
      "outputs": [
        {
          "output_type": "stream",
          "name": "stdout",
          "text": [
            "{'Name': 'python', 'Location': 'address'}\n"
          ]
        }
      ]
    },
    {
      "cell_type": "markdown",
      "source": [
        "#Return Keyword\n",
        "\n",
        "Return statement is used for i"
      ],
      "metadata": {
        "id": "uZNJJoCqDdAP"
      }
    },
    {
      "cell_type": "code",
      "source": [
        "#create a sum function\n",
        "def sum(n1,n2):\n",
        "  return n1+n2\n",
        "n1=int(input())\n",
        "n2=int(input())\n",
        "print(f\"Sum of {n1} and {n2} is {sum(n1,n2)}\")"
      ],
      "metadata": {
        "colab": {
          "base_uri": "https://localhost:8080/"
        },
        "id": "sLlq0ESlCrdr",
        "outputId": "a3ee6b79-54d5-4e4a-b9aa-03e0b94b7be0"
      },
      "execution_count": null,
      "outputs": [
        {
          "output_type": "stream",
          "name": "stdout",
          "text": [
            "6\n",
            "7\n",
            "Sum of 6 and 7 is 13\n"
          ]
        }
      ]
    },
    {
      "cell_type": "code",
      "source": [
        "#create functions for arithmetic operations\n",
        "#Subtraction function\n",
        "def sub(n1,n2):\n",
        "  return n1-n2\n",
        "n1=int(input())\n",
        "n2=int(input())\n",
        "print(f\"Subtraction of {n1} and {n2} is {sub(n1,n2)}\")\n",
        "\n"
      ],
      "metadata": {
        "colab": {
          "base_uri": "https://localhost:8080/"
        },
        "id": "8bUG7QSUHRq9",
        "outputId": "8603fdca-01ff-47e1-b473-c7c715638ec5"
      },
      "execution_count": null,
      "outputs": [
        {
          "output_type": "stream",
          "name": "stdout",
          "text": [
            "6\n",
            "7\n",
            "Subtraction of 6 and 7 is -1\n"
          ]
        }
      ]
    },
    {
      "cell_type": "code",
      "source": [
        "#Multiplication function\n",
        "def mul(n1,n2):\n",
        "  return n1*n2\n",
        "n1=int(input())\n",
        "n2=int(input())\n",
        "print(f\"Product of {n1} and {n2} is {mul(n1,n2)}\")"
      ],
      "metadata": {
        "colab": {
          "base_uri": "https://localhost:8080/"
        },
        "id": "762VciG5I5vB",
        "outputId": "34fc29d9-c854-48a0-b17f-9d5df60a8ff3"
      },
      "execution_count": null,
      "outputs": [
        {
          "output_type": "stream",
          "name": "stdout",
          "text": [
            "6\n",
            "7\n",
            "Product of 6 and 7 is 42\n"
          ]
        }
      ]
    },
    {
      "cell_type": "code",
      "source": [
        "#Division Function\n",
        "def div(n1,n2):\n",
        "  return n1/n2\n",
        "n1=int(input())\n",
        "n2=int(input())\n",
        "print(f\"Quotient of {n1} and {n2} is {div(n1,n2)}\")"
      ],
      "metadata": {
        "colab": {
          "base_uri": "https://localhost:8080/"
        },
        "id": "yuQZ1yj7JCQ2",
        "outputId": "e20ed5f2-29ad-4f0d-d61e-8fae85efdb71"
      },
      "execution_count": null,
      "outputs": [
        {
          "output_type": "stream",
          "name": "stdout",
          "text": [
            "7\n",
            "6\n",
            "Quotient of 7 and 6 is 1.1666666666666667\n"
          ]
        }
      ]
    },
    {
      "cell_type": "code",
      "source": [
        "#Exponential Function\n",
        "def power(n1,n2):\n",
        "  return n1**n2\n",
        "n1=int(input())\n",
        "n2=int(input())\n",
        "print(f\"Power of {n1} and {n2} is {power(n1,n2)}\")"
      ],
      "metadata": {
        "colab": {
          "base_uri": "https://localhost:8080/"
        },
        "id": "ZpsXeqSbJakO",
        "outputId": "80e9d387-458a-4d8d-a9a3-b05313e924c5"
      },
      "execution_count": null,
      "outputs": [
        {
          "output_type": "stream",
          "name": "stdout",
          "text": [
            "6\n",
            "7\n",
            "Power of 6 and 7 is 279936\n"
          ]
        }
      ]
    },
    {
      "cell_type": "code",
      "source": [
        "#Floor Division Function\n",
        "def fld(n1,n2):\n",
        "  return n1//n2\n",
        "n1=int(input())\n",
        "n2=int(input())\n",
        "print(f\"Floor Division of {n1} and {n2} is {sub(n1,n2)}\")"
      ],
      "metadata": {
        "colab": {
          "base_uri": "https://localhost:8080/"
        },
        "id": "eY7RwSpBJmdl",
        "outputId": "6b1d391a-d303-4345-9a6b-029a20521126"
      },
      "execution_count": null,
      "outputs": [
        {
          "output_type": "stream",
          "name": "stdout",
          "text": [
            "7\n",
            "6\n",
            "Floor Division of 7 and 6 is 1\n"
          ]
        }
      ]
    },
    {
      "cell_type": "code",
      "source": [
        "#create a function for calculating sum of range of numbers\n",
        "\n",
        "def sum_range(n):\n",
        "  total=0\n",
        "  for i in range(1,n+1):\n",
        "    total+=i\n",
        "  return total\n",
        "n=int(input())\n",
        "print(sum_range(n))"
      ],
      "metadata": {
        "colab": {
          "base_uri": "https://localhost:8080/"
        },
        "id": "O8VqVu-FIC5w",
        "outputId": "709346c8-3503-4960-93d4-80c34f4dd536"
      },
      "execution_count": null,
      "outputs": [
        {
          "output_type": "stream",
          "name": "stdout",
          "text": [
            "7\n",
            "28\n"
          ]
        }
      ]
    },
    {
      "cell_type": "markdown",
      "source": [
        "#List Comprehension\n",
        "\n",
        "List Comprehension is a method to create a new list by using an existing list. for loop\n",
        "\n",
        "##For Example:"
      ],
      "metadata": {
        "id": "f85dl4FT2na3"
      }
    },
    {
      "cell_type": "code",
      "source": [
        "l1=['apple','banana','cherry','kiwi','orange']\n",
        "l=[i for i in l1 if 'a' in i]\n",
        "print(l)\n",
        "l2=[i for i in l1 if \"i\" in i]\n",
        "print(l2)\n",
        "\n",
        "l3=[i for i in l1 if 'banana' not in i]\n",
        "print(l3)\n",
        "\n",
        "l4=[i for i in range(21)]\n",
        "print(l4)\n",
        "\n",
        "l5=[]\n",
        "for i in range(21):\n",
        "  l5.append(i)\n",
        "print(l5)"
      ],
      "metadata": {
        "id": "4n2YsVwcIcNH",
        "colab": {
          "base_uri": "https://localhost:8080/"
        },
        "outputId": "cf9e1d7d-0ce3-468e-92c1-a582c083769a"
      },
      "execution_count": null,
      "outputs": [
        {
          "output_type": "stream",
          "name": "stdout",
          "text": [
            "['apple', 'banana', 'orange']\n",
            "['kiwi']\n",
            "['apple', 'cherry', 'kiwi', 'orange']\n",
            "[0, 1, 2, 3, 4, 5, 6, 7, 8, 9, 10, 11, 12, 13, 14, 15, 16, 17, 18, 19, 20]\n",
            "[0, 1, 2, 3, 4, 5, 6, 7, 8, 9, 10, 11, 12, 13, 14, 15, 16, 17, 18, 19, 20]\n"
          ]
        }
      ]
    },
    {
      "cell_type": "code",
      "source": [
        "even_list=[i for i in range(101) if i%2==0]\n",
        "odd_list=[i for i in range(100) if i%2!=0]\n",
        "print(even_list)\n",
        "print(odd_list)"
      ],
      "metadata": {
        "id": "EBaRTR3sQ_wg",
        "colab": {
          "base_uri": "https://localhost:8080/"
        },
        "outputId": "a7c6cc91-3c58-45fc-c067-bf274f3ea1bf"
      },
      "execution_count": null,
      "outputs": [
        {
          "output_type": "stream",
          "name": "stdout",
          "text": [
            "[0, 2, 4, 6, 8, 10, 12, 14, 16, 18, 20, 22, 24, 26, 28, 30, 32, 34, 36, 38, 40, 42, 44, 46, 48, 50, 52, 54, 56, 58, 60, 62, 64, 66, 68, 70, 72, 74, 76, 78, 80, 82, 84, 86, 88, 90, 92, 94, 96, 98, 100]\n",
            "[1, 3, 5, 7, 9, 11, 13, 15, 17, 19, 21, 23, 25, 27, 29, 31, 33, 35, 37, 39, 41, 43, 45, 47, 49, 51, 53, 55, 57, 59, 61, 63, 65, 67, 69, 71, 73, 75, 77, 79, 81, 83, 85, 87, 89, 91, 93, 95, 97, 99]\n"
          ]
        }
      ]
    },
    {
      "cell_type": "markdown",
      "source": [
        "#### Why do we prefer List Comprehension when we have loops?\n",
        "\n",
        "List Comprehension is faster when compared to loops"
      ],
      "metadata": {
        "id": "kQ1e_ORy6wjL"
      }
    },
    {
      "cell_type": "code",
      "source": [
        "mul_2=[i*2 for i in range(1,10) ]\n",
        "print(mul_2)"
      ],
      "metadata": {
        "colab": {
          "base_uri": "https://localhost:8080/"
        },
        "id": "8pmJM1WZ6axD",
        "outputId": "5098cedc-1eec-4266-d8bc-1419722e4a09"
      },
      "execution_count": null,
      "outputs": [
        {
          "output_type": "stream",
          "name": "stdout",
          "text": [
            "[2, 4, 6, 8, 10, 12, 14, 16, 18]\n"
          ]
        }
      ]
    },
    {
      "cell_type": "markdown",
      "source": [
        "#Lambda Functions\n",
        "\n",
        "Lambda fucntions are the functions which doesnot have any name. Lambda is an anonumous fucntion which have many arguments and a single expression\n",
        "\n",
        "Syntax:\n",
        "\n",
        "\n",
        "```\n",
        "lambda arguments : expression\n",
        "```\n",
        "expression:- if some statements or calculations or steps using many values to give the single value is called expression\n"
      ],
      "metadata": {
        "id": "Lbesd9sM-SQn"
      }
    },
    {
      "cell_type": "code",
      "source": [
        "x = lambda a : a+ 10\n",
        "print(x(5))"
      ],
      "metadata": {
        "colab": {
          "base_uri": "https://localhost:8080/"
        },
        "id": "1Ikn0irK7cCm",
        "outputId": "e6561054-7fb1-465d-f448-a8e7bcd141e2"
      },
      "execution_count": null,
      "outputs": [
        {
          "output_type": "stream",
          "name": "stdout",
          "text": [
            "15\n"
          ]
        }
      ]
    },
    {
      "cell_type": "code",
      "source": [
        "func= lambda x,y,z : x+y+z\n",
        "print(func(1,3,5))"
      ],
      "metadata": {
        "colab": {
          "base_uri": "https://localhost:8080/"
        },
        "id": "d9pWn7x1-8_H",
        "outputId": "2c82d401-ee11-4e88-83e3-0f9509194460"
      },
      "execution_count": null,
      "outputs": [
        {
          "output_type": "stream",
          "name": "stdout",
          "text": [
            "9\n"
          ]
        }
      ]
    },
    {
      "cell_type": "code",
      "source": [
        "cube= lambda x : x**3\n",
        "print(cube(5))"
      ],
      "metadata": {
        "colab": {
          "base_uri": "https://localhost:8080/"
        },
        "id": "ZWxXIZ3nAkuF",
        "outputId": "0a4c07ba-a66d-457b-c1bc-9522df1c7581"
      },
      "execution_count": null,
      "outputs": [
        {
          "output_type": "stream",
          "name": "stdout",
          "text": [
            "125\n"
          ]
        }
      ]
    },
    {
      "cell_type": "code",
      "source": [
        "def power(n):\n",
        "  return lambda a : a ** n\n",
        "square = power(2)\n",
        "cube = power(3)\n",
        "print(square(5))\n",
        "print(cube(4))\n",
        "\n",
        "print(type(power(5)))"
      ],
      "metadata": {
        "colab": {
          "base_uri": "https://localhost:8080/"
        },
        "id": "7PuATBnRDXqO",
        "outputId": "c41bdddf-ba13-4d06-e039-1e262689cc2b"
      },
      "execution_count": null,
      "outputs": [
        {
          "output_type": "stream",
          "name": "stdout",
          "text": [
            "25\n",
            "64\n",
            "<class 'function'>\n"
          ]
        }
      ]
    },
    {
      "cell_type": "markdown",
      "source": [
        "#Local variable and Global Variable\n",
        "\n",
        "local variable is a temporary variable whose scope will be over once we are out from that block of code where it was decalred.\n",
        "\n",
        "\n",
        "Global variable is a permanent variable whose lifetime will be through out the program."
      ],
      "metadata": {
        "id": "jXqL937oANQB"
      }
    },
    {
      "cell_type": "markdown",
      "source": [
        "#What is map()?\n",
        "\n",
        "What does maps do?\n",
        "-> it uses a function on iterables. it take functions and run it over the iterables (Iterables are npthing but collection)\n",
        "\n",
        "#What is function?\n",
        "functiond are the first calss objects which means one function can act as argument for another"
      ],
      "metadata": {
        "id": "wCFqONSEBaGC"
      }
    },
    {
      "cell_type": "code",
      "source": [
        "fruit = ['apples','banana','cherry','kiwi','mango']\n",
        "l2=[len(i) for i in fruit]\n",
        "print(l2)\n",
        "\n",
        "length = list(map(len ,fruit))\n",
        "print(type(length))"
      ],
      "metadata": {
        "colab": {
          "base_uri": "https://localhost:8080/"
        },
        "id": "0BYR1TRfBZum",
        "outputId": "9c662b78-aec3-4f8d-a702-2daeb9cfd66e"
      },
      "execution_count": null,
      "outputs": [
        {
          "output_type": "stream",
          "name": "stdout",
          "text": [
            "[6, 6, 6, 4, 5]\n",
            "<class 'map'>\n"
          ]
        }
      ]
    },
    {
      "cell_type": "code",
      "source": [
        "def fi(x):\n",
        "  return 'hello'+\" \"+x\n",
        "fruit=['apple']\n",
        "new = list(map(fi,fruit))\n",
        "print(new)"
      ],
      "metadata": {
        "colab": {
          "base_uri": "https://localhost:8080/"
        },
        "id": "1UuUC-yS-ztj",
        "outputId": "dd7553dd-5008-414b-87e2-b67e4db7d33c"
      },
      "execution_count": null,
      "outputs": [
        {
          "output_type": "stream",
          "name": "stdout",
          "text": [
            "['hello apple']\n"
          ]
        }
      ]
    },
    {
      "cell_type": "code",
      "source": [
        "user=input().split()\n",
        "print(user)\n",
        "print(type(user))\n",
        "lq=[int(i) for i in user]\n",
        "print(lq)\n",
        "ll=list(map(int,user))\n",
        "print(ll)"
      ],
      "metadata": {
        "colab": {
          "base_uri": "https://localhost:8080/"
        },
        "id": "VOzIRoTVGhqy",
        "outputId": "4a923b3e-6b19-40b1-993d-ddd752a49a85"
      },
      "execution_count": null,
      "outputs": [
        {
          "output_type": "stream",
          "name": "stdout",
          "text": [
            "1 4 5 6 3 2\n",
            "['1', '4', '5', '6', '3', '2']\n",
            "<class 'list'>\n",
            "[1, 4, 5, 6, 3, 2]\n",
            "[1, 4, 5, 6, 3, 2]\n"
          ]
        }
      ]
    },
    {
      "cell_type": "code",
      "source": [
        "user=input().split()\n",
        "ans=tuple(map(lambda a : a**2,ll))\n",
        "print(type(ans[0]))\n",
        "print(type(ans))\n",
        "print(ans)"
      ],
      "metadata": {
        "colab": {
          "base_uri": "https://localhost:8080/"
        },
        "id": "dlawjwdXH6R3",
        "outputId": "38fce766-c8c6-4f77-aa50-0681716705d8"
      },
      "execution_count": null,
      "outputs": [
        {
          "output_type": "stream",
          "name": "stdout",
          "text": [
            "10\n",
            "<class 'int'>\n",
            "<class 'tuple'>\n",
            "(1, 16, 25, 36, 9, 4)\n"
          ]
        }
      ]
    },
    {
      "cell_type": "code",
      "source": [
        "n=5\n",
        "num=1\n",
        "for i in range(1,n+1):\n",
        "  num=num*i\n",
        "print(num)\n",
        "\n",
        "def fact(n):\n",
        "  if n>1:\n",
        "    return n*fact(n-1)\n",
        "  else:\n",
        "    return 1\n",
        "print(fact(5))"
      ],
      "metadata": {
        "colab": {
          "base_uri": "https://localhost:8080/"
        },
        "id": "-ptHtagqKnzQ",
        "outputId": "d8b80676-c8ea-41d1-b219-64e61a47f392"
      },
      "execution_count": null,
      "outputs": [
        {
          "output_type": "stream",
          "name": "stdout",
          "text": [
            "120\n",
            "120\n"
          ]
        }
      ]
    },
    {
      "cell_type": "code",
      "source": [
        "word1='abc'\n",
        "word2='pqr'\n",
        "if len(word1)==len(word2):\n",
        "  for i in range(len(word1)):\n",
        "    print(f'{word1[i]}{word2[i]}',end=\"\")\n",
        "elif len(word1)>len(word2):\n",
        "    for i in range(len(word2)):\n",
        "      print(f'{word1[i]}{word2[i]}',end=\"\")\n",
        "    print(f'{word1[len(word2)::]}',end=\"\")\n",
        "elif len(word1)<len(word2):\n",
        "    for i in range(len(word1)):\n",
        "      print(f'{word1[i]}{word2[i]}',end=\"\")\n",
        "    print(f'{word2[len(word1)::]}',end=\"\")\n"
      ],
      "metadata": {
        "colab": {
          "base_uri": "https://localhost:8080/"
        },
        "id": "zlZ8OM4FMVib",
        "outputId": "486f7bfa-7fb8-477a-a3d5-5fa9f183b24c"
      },
      "execution_count": null,
      "outputs": [
        {
          "output_type": "stream",
          "name": "stdout",
          "text": [
            "apbqcr"
          ]
        }
      ]
    },
    {
      "cell_type": "code",
      "source": [
        "print(round(2.50))"
      ],
      "metadata": {
        "colab": {
          "base_uri": "https://localhost:8080/"
        },
        "id": "CVpJfy0oV8Up",
        "outputId": "e8f2e506-1048-4316-d234-12aad482bd80"
      },
      "execution_count": null,
      "outputs": [
        {
          "output_type": "stream",
          "name": "stdout",
          "text": [
            "2\n"
          ]
        }
      ]
    },
    {
      "cell_type": "markdown",
      "source": [
        "# Filter():\n",
        "\n",
        "filter function is used remove unecessary information and maintain only required information\n",
        "\n",
        "\n",
        "\n",
        "The difference between map and filter is map returns true or false values based on the condition where filter returns the value if the given condition is true.\n",
        "\n",
        "Syntax : filter(function,iterables)\n"
      ],
      "metadata": {
        "id": "9l1F6lUycNaf"
      }
    },
    {
      "cell_type": "code",
      "source": [
        "age=[12,15,16,18,45,21,18,17,56,23,35,15,8,10]\n",
        "l=[x>=18 for x in age]\n",
        "# print(l)\n",
        "def adult(x):\n",
        "  if x>=18:\n",
        "    return True\n",
        "  else:\n",
        "    return False\n",
        "res1=map(adult,age)\n",
        "res=list(filter(adult,age))\n",
        "print(res)\n",
        "print(list(res1))"
      ],
      "metadata": {
        "id": "EXbMGbldjjdb",
        "colab": {
          "base_uri": "https://localhost:8080/"
        },
        "outputId": "3b947038-1980-4582-dddf-ba3d8263c510"
      },
      "execution_count": 10,
      "outputs": [
        {
          "output_type": "stream",
          "name": "stdout",
          "text": [
            "[18, 45, 21, 18, 56, 23, 35]\n",
            "[False, False, False, True, True, True, True, False, True, True, True, False, False, False]\n"
          ]
        }
      ]
    },
    {
      "cell_type": "markdown",
      "source": [
        "Filter function filters all your original collections which meets the given conditions. i,e. it returns all the value that comes out to be true or false , any value that comes out to be true it will be stores as a list of items"
      ],
      "metadata": {
        "id": "PBbzXbDZgDxA"
      }
    },
    {
      "cell_type": "code",
      "source": [
        "age=[12,15,16,18,45,21,18,17,56,23,35,15,8,10]\n",
        "l=[x>=18 for x in age]\n",
        "# print(l)\n",
        "def adult(x):\n",
        "  if x>=18:\n",
        "    return True\n",
        "res1=map(adult,age)\n",
        "res=list(filter(adult,age))\n",
        "print(res)\n",
        "print(list(res1))"
      ],
      "metadata": {
        "colab": {
          "base_uri": "https://localhost:8080/"
        },
        "id": "CpA0oAaldpR6",
        "outputId": "3f4691fb-0b9a-4e19-ab10-f7ad02523d38"
      },
      "execution_count": 11,
      "outputs": [
        {
          "output_type": "stream",
          "name": "stdout",
          "text": [
            "[18, 45, 21, 18, 56, 23, 35]\n",
            "[None, None, None, True, True, True, True, None, True, True, True, None, None, None]\n"
          ]
        }
      ]
    },
    {
      "cell_type": "code",
      "source": [
        "age=[12,15,16,18,45,21,18,17,56,23,35,15,8,10]\n",
        "l=[x>=18 for x in age]\n",
        "# print(l)\n",
        "def adult(x):\n",
        "    return x>=18\n",
        "res1=map(adult,age)\n",
        "res=list(filter(adult,age))\n",
        "print(res)\n",
        "print(list(res1))"
      ],
      "metadata": {
        "colab": {
          "base_uri": "https://localhost:8080/"
        },
        "id": "33YudFAViCBE",
        "outputId": "706ff13f-495a-4fbf-cf4e-4c631d4db602"
      },
      "execution_count": 13,
      "outputs": [
        {
          "output_type": "stream",
          "name": "stdout",
          "text": [
            "[18, 45, 21, 18, 56, 23, 35]\n",
            "[False, False, False, True, True, True, True, False, True, True, True, False, False, False]\n"
          ]
        }
      ]
    },
    {
      "cell_type": "code",
      "source": [
        "#if you have a function that have a one statement don't you use the def function what will you use?"
      ],
      "metadata": {
        "id": "NmlrRNYFiHcB"
      },
      "execution_count": 14,
      "outputs": []
    },
    {
      "cell_type": "code",
      "source": [
        "a=lambda x : x>=18\n",
        "print(list(filter(a,age)))\n",
        "print(list(filter(lambda x:x>=18 and x<=30,age)))\n",
        "print(list(filter(lambda x: x in range(18,30),age)))\n",
        "print(list(filter(lambda x:18<= x<=30,age)))\n",
        "m=list(filter(lambda x:x>=18 and x<=30,age))\n",
        "m.sort()\n",
        "m.sort(reverse=True)\n",
        "print(m)"
      ],
      "metadata": {
        "colab": {
          "base_uri": "https://localhost:8080/"
        },
        "id": "45-je28Hi5Vo",
        "outputId": "7d1b98f8-f1e0-4b69-f639-a85f7861076b"
      },
      "execution_count": 31,
      "outputs": [
        {
          "output_type": "stream",
          "name": "stdout",
          "text": [
            "[18, 45, 21, 18, 56, 23, 35]\n",
            "[18, 21, 18, 23]\n",
            "[18, 21, 18, 23]\n",
            "[18, 21, 18, 23]\n",
            "[23, 21, 18, 18]\n"
          ]
        }
      ]
    },
    {
      "cell_type": "code",
      "source": [
        "\n",
        "x='Hello'\n",
        "print(dir(x))\n"
      ],
      "metadata": {
        "colab": {
          "base_uri": "https://localhost:8080/"
        },
        "id": "bMPbCjZGjPlF",
        "outputId": "5ce7dc25-33e2-47bc-8163-13d7e916a3ca"
      },
      "execution_count": 32,
      "outputs": [
        {
          "output_type": "stream",
          "name": "stdout",
          "text": [
            "['__add__', '__class__', '__contains__', '__delattr__', '__dir__', '__doc__', '__eq__', '__format__', '__ge__', '__getattribute__', '__getitem__', '__getnewargs__', '__gt__', '__hash__', '__init__', '__init_subclass__', '__iter__', '__le__', '__len__', '__lt__', '__mod__', '__mul__', '__ne__', '__new__', '__reduce__', '__reduce_ex__', '__repr__', '__rmod__', '__rmul__', '__setattr__', '__sizeof__', '__str__', '__subclasshook__', 'capitalize', 'casefold', 'center', 'count', 'encode', 'endswith', 'expandtabs', 'find', 'format', 'format_map', 'index', 'isalnum', 'isalpha', 'isascii', 'isdecimal', 'isdigit', 'isidentifier', 'islower', 'isnumeric', 'isprintable', 'isspace', 'istitle', 'isupper', 'join', 'ljust', 'lower', 'lstrip', 'maketrans', 'partition', 'removeprefix', 'removesuffix', 'replace', 'rfind', 'rindex', 'rjust', 'rpartition', 'rsplit', 'rstrip', 'split', 'splitlines', 'startswith', 'strip', 'swapcase', 'title', 'translate', 'upper', 'zfill']\n"
          ]
        }
      ]
    },
    {
      "cell_type": "markdown",
      "source": [
        "#OPPs in Python\n",
        "\n",
        "#Classes and Objects\n",
        "\n",
        "Why do we create classes and objects\n"
      ],
      "metadata": {
        "id": "l9zJKFz8lI6G"
      }
    }
  ]
}
